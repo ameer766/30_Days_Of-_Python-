{
 "cells": [
  {
   "attachments": {},
   "cell_type": "markdown",
   "metadata": {},
   "source": [
    "## Day 9"
   ]
  },
  {
   "attachments": {},
   "cell_type": "markdown",
   "metadata": {},
   "source": [
    "#### Q1"
   ]
  },
  {
   "cell_type": "code",
   "execution_count": 2,
   "metadata": {},
   "outputs": [
    {
     "name": "stdout",
     "output_type": "stream",
     "text": [
      "Wait for the missing amount of years\n"
     ]
    }
   ],
   "source": [
    "age = int(input(\"Enter your age: \"))\n",
    "if age >= 18 :\n",
    "  print ('You are old enough to drive')\n",
    "else:\n",
    "  print ('Wait for the missing amount of years')"
   ]
  },
  {
   "attachments": {},
   "cell_type": "markdown",
   "metadata": {},
   "source": [
    "#### Q2"
   ]
  },
  {
   "cell_type": "code",
   "execution_count": 4,
   "metadata": {},
   "outputs": [
    {
     "name": "stdout",
     "output_type": "stream",
     "text": [
      "We are Age mates\n"
     ]
    }
   ],
   "source": [
    "my_age = int(input('Enter my age:'))\n",
    "your_age = int(input('Enter your age:'))\n",
    "if my_age > your_age:\n",
    "  if my_age > your_age == 1:\n",
    "    print (\"i'm one year older\")\n",
    "  else:\n",
    "    print(\"I'm years older\")\n",
    "elif my_age == your_age:\n",
    "  print (\"We are Age mates\")\n",
    "else:\n",
    "  print('You  are older')"
   ]
  },
  {
   "attachments": {},
   "cell_type": "markdown",
   "metadata": {},
   "source": [
    "#### Q3"
   ]
  },
  {
   "cell_type": "code",
   "execution_count": 8,
   "metadata": {},
   "outputs": [
    {
     "name": "stdout",
     "output_type": "stream",
     "text": [
      "A is equal to B\n"
     ]
    }
   ],
   "source": [
    "A = int(input('Enter a number as A:'))\n",
    "B = int(input('Enter a number as B:'))\n",
    "if A > B:\n",
    "  print('A is greater than B')\n",
    "elif B > A:\n",
    "  print ('A is smaller than B')\n",
    "else:\n",
    "  print ('A is equal to B') "
   ]
  },
  {
   "attachments": {},
   "cell_type": "markdown",
   "metadata": {},
   "source": [
    "## Level 2"
   ]
  },
  {
   "cell_type": "code",
   "execution_count": 11,
   "metadata": {},
   "outputs": [
    {
     "name": "stdout",
     "output_type": "stream",
     "text": [
      "C\n"
     ]
    }
   ],
   "source": [
    "grade = int(input('Enter grade'))\n",
    "if grade < 50:\n",
    "  print ('F')\n",
    "elif grade < 60:\n",
    "  print('D')\n",
    "elif grade < 70:\n",
    "  print('C')\n",
    "elif grade < 90:\n",
    "  print('B')\n",
    "elif grade <= 100:\n",
    "  print('A')\n",
    "else:\n",
    "  print('error')"
   ]
  },
  {
   "cell_type": "code",
   "execution_count": 14,
   "metadata": {},
   "outputs": [
    {
     "name": "stdout",
     "output_type": "stream",
     "text": [
      "error\n"
     ]
    }
   ],
   "source": [
    "season = input('Enter Season')\n",
    "if season in ['September', 'October', 'Novermber']:\n",
    "  print('Automn')\n",
    "elif season in ['December', 'January', 'Febuary']:\n",
    "  print ('Winter')\n",
    "elif season in ['March', 'April', 'May']:\n",
    "  print ('Spring')\n",
    "elif season in ['December', 'January', 'Febuary']:\n",
    "  print ('Winter')\n",
    "else:\n",
    "  print('error month') "
   ]
  },
  {
   "cell_type": "code",
   "execution_count": 26,
   "metadata": {},
   "outputs": [
    {
     "name": "stdout",
     "output_type": "stream",
     "text": [
      "['banana', 'orange', 'mango', 'lemon', 't', 'o', 'm', 'a', 't', 'o']\n"
     ]
    }
   ],
   "source": [
    "fruits = ['banana', 'orange', 'mango', 'lemon']\n",
    "fruit = list(input('Enter a fruit'))\n",
    "if fruit in fruits:\n",
    "  print ('That fruit already exist in the list')\n",
    "else:\n",
    "  fruits = fruits + fruit\n",
    "  print(fruits)\n"
   ]
  },
  {
   "cell_type": "code",
   "execution_count": null,
   "metadata": {},
   "outputs": [],
   "source": [
    "Check if the person dictionary has skills key, if so print out the middle skill in the skills list.\n",
    " * Check if the person dictionary has skills key, if so check if the person has 'Python' skill and print out the result.\n",
    " * If a person skills has only JavaScript and React, print('He is a front end developer'), if the person skills has Node, Python, MongoDB, print('He is a backend developer'), if the person skills has React, Node and MongoDB, Print('He is a fullstack developer'), else print('unknown title') - for more accurate results more conditions can be nested!\n",
    " * If the person is married and if he lives in Finland, print the information in the following format:"
   ]
  },
  {
   "cell_type": "code",
   "execution_count": 31,
   "metadata": {},
   "outputs": [
    {
     "ename": "IndexError",
     "evalue": "list index out of range",
     "output_type": "error",
     "traceback": [
      "\u001b[1;31m---------------------------------------------------------------------------\u001b[0m",
      "\u001b[1;31mIndexError\u001b[0m                                Traceback (most recent call last)",
      "Cell \u001b[1;32mIn[31], line 13\u001b[0m\n\u001b[0;32m      1\u001b[0m person\u001b[39m=\u001b[39m{\n\u001b[0;32m      2\u001b[0m     \u001b[39m'\u001b[39m\u001b[39mfirst_name\u001b[39m\u001b[39m'\u001b[39m: \u001b[39m'\u001b[39m\u001b[39mAmir\u001b[39m\u001b[39m'\u001b[39m,\n\u001b[0;32m      3\u001b[0m     \u001b[39m'\u001b[39m\u001b[39mlast_name\u001b[39m\u001b[39m'\u001b[39m: \u001b[39m'\u001b[39m\u001b[39mMahmoud\u001b[39m\u001b[39m'\u001b[39m,\n\u001b[1;32m   (...)\u001b[0m\n\u001b[0;32m     10\u001b[0m         \u001b[39m'\u001b[39m\u001b[39mlga\u001b[39m\u001b[39m'\u001b[39m: \u001b[39m'\u001b[39m\u001b[39mGwale\u001b[39m\u001b[39m'\u001b[39m}\n\u001b[0;32m     11\u001b[0m     }\n\u001b[0;32m     12\u001b[0m \u001b[39mif\u001b[39;00m \u001b[39m'\u001b[39m\u001b[39mskills\u001b[39m\u001b[39m'\u001b[39m \u001b[39min\u001b[39;00m person:\n\u001b[1;32m---> 13\u001b[0m   \u001b[39mprint\u001b[39m(\u001b[39m'\u001b[39m\u001b[39mMiddle skill = \u001b[39m\u001b[39m'\u001b[39m, person([\u001b[39m'\u001b[39;49m\u001b[39mskills\u001b[39;49m\u001b[39m'\u001b[39;49m][\u001b[39m2\u001b[39;49m]))\n\u001b[0;32m     14\u001b[0m \u001b[39m#elif 'skills' in person:\u001b[39;00m\n\u001b[0;32m     15\u001b[0m  \u001b[39m# if 'Python' in person['skill']:\u001b[39;00m\n",
      "\u001b[1;31mIndexError\u001b[0m: list index out of range"
     ]
    }
   ],
   "source": [
    "person={\n",
    "    'first_name': 'Amir',\n",
    "    'last_name': 'Mahmoud',\n",
    "    'age': 250,\n",
    "    'country': 'Nigeria',\n",
    "    'is_marred': False,\n",
    "    'skills': ['JavaScript', 'React', 'Node', 'MongoDB', 'Python'],\n",
    "    'address': {\n",
    "        'street': 'Janbulo',\n",
    "        'lga': 'Gwale'}\n",
    "    }\n",
    "if 'skills' in person:\n",
    "  print('Middle skill = ', person(['skills'][2]))\n",
    "#elif 'skills' in person:\n",
    " # if 'Python' in person['skill']:\n"
   ]
  },
  {
   "cell_type": "code",
   "execution_count": 28,
   "metadata": {},
   "outputs": [
    {
     "name": "stdout",
     "output_type": "stream",
     "text": [
      "['t', 'o', 'm', 'a', 't', 'o']\n"
     ]
    }
   ],
   "source": [
    "kfruit = list(input('Enter a fruit'))\n",
    "print (kfruit)"
   ]
  },
  {
   "cell_type": "code",
   "execution_count": null,
   "metadata": {},
   "outputs": [],
   "source": []
  }
 ],
 "metadata": {
  "kernelspec": {
   "display_name": "Python 3",
   "language": "python",
   "name": "python3"
  },
  "language_info": {
   "codemirror_mode": {
    "name": "ipython",
    "version": 3
   },
   "file_extension": ".py",
   "mimetype": "text/x-python",
   "name": "python",
   "nbconvert_exporter": "python",
   "pygments_lexer": "ipython3",
   "version": "3.9.13"
  },
  "orig_nbformat": 4,
  "vscode": {
   "interpreter": {
    "hash": "bea2c3de98886f9bddf8a9bef4b0aab369fd8f4f49ddd5f061dba3f9cf50fea9"
   }
  }
 },
 "nbformat": 4,
 "nbformat_minor": 2
}
