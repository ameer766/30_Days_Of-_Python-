{
 "cells": [
  {
   "attachments": {},
   "cell_type": "markdown",
   "metadata": {},
   "source": [
    "## Day 9"
   ]
  },
  {
   "attachments": {},
   "cell_type": "markdown",
   "metadata": {},
   "source": [
    "#### Q1"
   ]
  },
  {
   "cell_type": "code",
   "execution_count": 2,
   "metadata": {},
   "outputs": [
    {
     "name": "stdout",
     "output_type": "stream",
     "text": [
      "Wait for the missing amount of years\n"
     ]
    }
   ],
   "source": [
    "age = int(input(\"Enter your age: \"))\n",
    "if age >= 18 :\n",
    "  print ('You are old enough to drive')\n",
    "else:\n",
    "  print ('Wait for the missing amount of years')"
   ]
  },
  {
   "attachments": {},
   "cell_type": "markdown",
   "metadata": {},
   "source": [
    "#### Q2"
   ]
  },
  {
   "cell_type": "code",
   "execution_count": 4,
   "metadata": {},
   "outputs": [
    {
     "name": "stdout",
     "output_type": "stream",
     "text": [
      "We are Age mates\n"
     ]
    }
   ],
   "source": [
    "my_age = int(input('Enter my age:'))\n",
    "your_age = int(input('Enter your age:'))\n",
    "if my_age > your_age:\n",
    "  if my_age > your_age == 1:\n",
    "    print (\"i'm one year older\")\n",
    "  else:\n",
    "    print(\"I'm years older\")\n",
    "elif my_age == your_age:\n",
    "  print (\"We are Age mates\")\n",
    "else:\n",
    "  print('You  are older')"
   ]
  },
  {
   "attachments": {},
   "cell_type": "markdown",
   "metadata": {},
   "source": [
    "#### Q3"
   ]
  },
  {
   "cell_type": "code",
   "execution_count": 8,
   "metadata": {},
   "outputs": [
    {
     "name": "stdout",
     "output_type": "stream",
     "text": [
      "A is equal to B\n"
     ]
    }
   ],
   "source": [
    "A = int(input('Enter a number as A:'))\n",
    "B = int(input('Enter a number as B:'))\n",
    "if A > B:\n",
    "  print('A is greater than B')\n",
    "elif B > A:\n",
    "  print ('A is smaller than B')\n",
    "else:\n",
    "  print ('A is equal to B') "
   ]
  },
  {
   "attachments": {},
   "cell_type": "markdown",
   "metadata": {},
   "source": [
    "## Level 2"
   ]
  },
  {
   "attachments": {},
   "cell_type": "markdown",
   "metadata": {},
   "source": [
    "#### Q1"
   ]
  },
  {
   "cell_type": "code",
   "execution_count": 11,
   "metadata": {},
   "outputs": [
    {
     "name": "stdout",
     "output_type": "stream",
     "text": [
      "C\n"
     ]
    }
   ],
   "source": [
    "grade = int(input('Enter grade'))\n",
    "if grade < 50:\n",
    "  print ('F')\n",
    "elif grade < 60:\n",
    "  print('D')\n",
    "elif grade < 70:\n",
    "  print('C')\n",
    "elif grade < 90:\n",
    "  print('B')\n",
    "elif grade <= 100:\n",
    "  print('A')\n",
    "else:\n",
    "  print('error')"
   ]
  },
  {
   "attachments": {},
   "cell_type": "markdown",
   "metadata": {},
   "source": [
    "#### Q2"
   ]
  },
  {
   "cell_type": "code",
   "execution_count": 14,
   "metadata": {},
   "outputs": [
    {
     "name": "stdout",
     "output_type": "stream",
     "text": [
      "error\n"
     ]
    }
   ],
   "source": [
    "season = input('Enter Season')\n",
    "if season in ['September', 'October', 'Novermber']:\n",
    "  print('Automn')\n",
    "elif season in ['December', 'January', 'Febuary']:\n",
    "  print ('Winter')\n",
    "elif season in ['March', 'April', 'May']:\n",
    "  print ('Spring')\n",
    "elif season in ['December', 'January', 'Febuary']:\n",
    "  print ('Winter')\n",
    "else:\n",
    "  print('error month') "
   ]
  },
  {
   "attachments": {},
   "cell_type": "markdown",
   "metadata": {},
   "source": [
    "#### Q3"
   ]
  },
  {
   "cell_type": "code",
   "execution_count": 26,
   "metadata": {},
   "outputs": [
    {
     "name": "stdout",
     "output_type": "stream",
     "text": [
      "['banana', 'orange', 'mango', 'lemon', 't', 'o', 'm', 'a', 't', 'o']\n"
     ]
    }
   ],
   "source": [
    "fruits = ['banana', 'orange', 'mango', 'lemon']\n",
    "fruit = list(input('Enter a fruit'))\n",
    "if fruit in fruits:\n",
    "  print ('That fruit already exist in the list')\n",
    "else:\n",
    "  fruits = fruits + fruit\n",
    "  print(fruits)\n"
   ]
  },
  {
   "attachments": {},
   "cell_type": "markdown",
   "metadata": {},
   "source": [
    "## Level 3"
   ]
  },
  {
   "cell_type": "markdown",
   "metadata": {},
   "source": [
    "#### Q4"
   ]
  },
  {
   "cell_type": "code",
   "execution_count": 1,
   "metadata": {},
   "outputs": [
    {
     "name": "stdout",
     "output_type": "stream",
     "text": [
      "Person has Python skill\n"
     ]
    }
   ],
   "source": [
    "person={\n",
    "    'first_name': 'Amir',\n",
    "    'last_name': 'Mahmoud',\n",
    "    'age': 250,\n",
    "    'country': 'Nigeria',\n",
    "    'is_marred': False,\n",
    "    'skills': ['JavaScript', 'React', 'Node', 'MongoDB', 'Python'],\n",
    "    'address': {\n",
    "        'street': 'Janbulo',\n",
    "        'lga': 'Gwale'}\n",
    "    }\n",
    "skill = person['skills']\n",
    "if 'skills' in person:\n",
    "    if 'Python' in skill:\n",
    "        print('Person has Python skill')\n",
    "    else:\n",
    "        print('Person has no Python skill')"
   ]
  },
  {
   "cell_type": "code",
   "execution_count": null,
   "metadata": {},
   "outputs": [],
   "source": []
  },
  {
   "cell_type": "code",
   "execution_count": 4,
   "metadata": {},
   "outputs": [
    {
     "name": "stdout",
     "output_type": "stream",
     "text": [
      "Amir Mahmoud lives in Nigeria. He is married\n"
     ]
    }
   ],
   "source": [
    "if person['is_marred'] == False and person['country'] == 'Nigeria':\n",
    "    print('{} {} lives in {}. He is married'.format(person['first_name'], person['last_name'], person['country']))\n"
   ]
  },
  {
   "cell_type": "code",
   "execution_count": null,
   "metadata": {},
   "outputs": [],
   "source": []
  }
 ],
 "metadata": {
  "kernelspec": {
   "display_name": "Python 3",
   "language": "python",
   "name": "python3"
  },
  "language_info": {
   "codemirror_mode": {
    "name": "ipython",
    "version": 3
   },
   "file_extension": ".py",
   "mimetype": "text/x-python",
   "name": "python",
   "nbconvert_exporter": "python",
   "pygments_lexer": "ipython3",
   "version": "3.9.13"
  },
  "orig_nbformat": 4,
  "vscode": {
   "interpreter": {
    "hash": "bea2c3de98886f9bddf8a9bef4b0aab369fd8f4f49ddd5f061dba3f9cf50fea9"
   }
  }
 },
 "nbformat": 4,
 "nbformat_minor": 2
}
