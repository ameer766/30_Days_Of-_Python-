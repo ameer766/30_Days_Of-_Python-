{
 "cells": [
  {
   "attachments": {},
   "cell_type": "markdown",
   "metadata": {},
   "source": [
    "# Day 8"
   ]
  },
  {
   "attachments": {},
   "cell_type": "markdown",
   "metadata": {},
   "source": [
    "#### Q1"
   ]
  },
  {
   "cell_type": "code",
   "execution_count": 41,
   "metadata": {},
   "outputs": [],
   "source": [
    "dog = {}"
   ]
  },
  {
   "attachments": {},
   "cell_type": "markdown",
   "metadata": {},
   "source": [
    "#### Q2"
   ]
  },
  {
   "cell_type": "code",
   "execution_count": 42,
   "metadata": {},
   "outputs": [
    {
     "data": {
      "text/plain": [
       "{'name': 'bull',\n",
       " 'color': 'black',\n",
       " 'breed': 'bull_dog',\n",
       " 'legs': '4',\n",
       " 'age': '2'}"
      ]
     },
     "execution_count": 42,
     "metadata": {},
     "output_type": "execute_result"
    }
   ],
   "source": [
    "dog = {'name':'bull', 'color':'black','breed':'bull_dog','legs':'4', 'age':'2'}\n",
    "dog"
   ]
  },
  {
   "attachments": {},
   "cell_type": "markdown",
   "metadata": {},
   "source": [
    "#### Q3"
   ]
  },
  {
   "cell_type": "code",
   "execution_count": 43,
   "metadata": {},
   "outputs": [],
   "source": [
    "student = {'first_name':'Amir', 'last_name':'Mahmoud', 'gender':'Male', 'age':'17', 'marital_status':'Single', 'skills':['JavaScript', 'React', 'Node', 'MongoDB', 'Python'], 'country':'Nigeria', 'city':'Kano', 'address':{'street':'Janbulo','LG':'Gwale'}}"
   ]
  },
  {
   "attachments": {},
   "cell_type": "markdown",
   "metadata": {},
   "source": [
    "#### Q4"
   ]
  },
  {
   "cell_type": "code",
   "execution_count": 44,
   "metadata": {},
   "outputs": [
    {
     "name": "stdout",
     "output_type": "stream",
     "text": [
      "9\n"
     ]
    }
   ],
   "source": [
    "print(len(student))"
   ]
  },
  {
   "attachments": {},
   "cell_type": "markdown",
   "metadata": {},
   "source": [
    "#### Q5"
   ]
  },
  {
   "cell_type": "code",
   "execution_count": 45,
   "metadata": {},
   "outputs": [
    {
     "name": "stdout",
     "output_type": "stream",
     "text": [
      "['JavaScript', 'React', 'Node', 'MongoDB', 'Python']\n",
      "<class 'list'>\n"
     ]
    }
   ],
   "source": [
    "print(student['skills'])\n",
    "print(type(student['skills']))"
   ]
  },
  {
   "attachments": {},
   "cell_type": "markdown",
   "metadata": {},
   "source": [
    "#### Q6"
   ]
  },
  {
   "cell_type": "code",
   "execution_count": 46,
   "metadata": {},
   "outputs": [
    {
     "name": "stdout",
     "output_type": "stream",
     "text": [
      "['JavaScript', 'React', 'Node', 'MongoDB', 'Python', 'java']\n"
     ]
    }
   ],
   "source": [
    "student['skills'].append('java')\n",
    "print(student['skills'])"
   ]
  },
  {
   "attachments": {},
   "cell_type": "markdown",
   "metadata": {},
   "source": [
    "#### Q7"
   ]
  },
  {
   "cell_type": "code",
   "execution_count": 47,
   "metadata": {},
   "outputs": [
    {
     "name": "stdout",
     "output_type": "stream",
     "text": [
      "dict_keys(['first_name', 'last_name', 'gender', 'age', 'marital_status', 'skills', 'country', 'city', 'address'])\n"
     ]
    }
   ],
   "source": [
    "print(student.keys())"
   ]
  },
  {
   "attachments": {},
   "cell_type": "markdown",
   "metadata": {},
   "source": [
    "#### Q8"
   ]
  },
  {
   "cell_type": "code",
   "execution_count": 48,
   "metadata": {},
   "outputs": [
    {
     "name": "stdout",
     "output_type": "stream",
     "text": [
      "dict_values(['Amir', 'Mahmoud', 'Male', '17', 'Single', ['JavaScript', 'React', 'Node', 'MongoDB', 'Python', 'java'], 'Nigeria', 'Kano', {'street': 'Janbulo', 'LG': 'Gwale'}])\n"
     ]
    }
   ],
   "source": [
    "print(student.values())"
   ]
  },
  {
   "attachments": {},
   "cell_type": "markdown",
   "metadata": {},
   "source": [
    "#### Q9"
   ]
  },
  {
   "cell_type": "code",
   "execution_count": 49,
   "metadata": {},
   "outputs": [
    {
     "name": "stdout",
     "output_type": "stream",
     "text": [
      "dict_items([('first_name', 'Amir'), ('last_name', 'Mahmoud'), ('gender', 'Male'), ('age', '17'), ('marital_status', 'Single'), ('skills', ['JavaScript', 'React', 'Node', 'MongoDB', 'Python', 'java']), ('country', 'Nigeria'), ('city', 'Kano'), ('address', {'street': 'Janbulo', 'LG': 'Gwale'})])\n"
     ]
    }
   ],
   "source": [
    "print(student.items())"
   ]
  },
  {
   "attachments": {},
   "cell_type": "markdown",
   "metadata": {},
   "source": [
    "#### Q10"
   ]
  },
  {
   "cell_type": "code",
   "execution_count": 50,
   "metadata": {},
   "outputs": [
    {
     "name": "stdout",
     "output_type": "stream",
     "text": [
      "{'first_name': 'Amir', 'last_name': 'Mahmoud', 'gender': 'Male', 'marital_status': 'Single', 'skills': ['JavaScript', 'React', 'Node', 'MongoDB', 'Python', 'java'], 'country': 'Nigeria', 'city': 'Kano', 'address': {'street': 'Janbulo', 'LG': 'Gwale'}}\n"
     ]
    }
   ],
   "source": [
    "student.pop('age')\n",
    "print(student)"
   ]
  },
  {
   "attachments": {},
   "cell_type": "markdown",
   "metadata": {},
   "source": [
    "#### Q11"
   ]
  },
  {
   "cell_type": "code",
   "execution_count": 51,
   "metadata": {},
   "outputs": [],
   "source": [
    "del student"
   ]
  },
  {
   "attachments": {},
   "cell_type": "markdown",
   "metadata": {},
   "source": []
  }
 ],
 "metadata": {
  "kernelspec": {
   "display_name": "Python 3",
   "language": "python",
   "name": "python3"
  },
  "language_info": {
   "codemirror_mode": {
    "name": "ipython",
    "version": 3
   },
   "file_extension": ".py",
   "mimetype": "text/x-python",
   "name": "python",
   "nbconvert_exporter": "python",
   "pygments_lexer": "ipython3",
   "version": "3.9.13"
  },
  "orig_nbformat": 4,
  "vscode": {
   "interpreter": {
    "hash": "bea2c3de98886f9bddf8a9bef4b0aab369fd8f4f49ddd5f061dba3f9cf50fea9"
   }
  }
 },
 "nbformat": 4,
 "nbformat_minor": 2
}
