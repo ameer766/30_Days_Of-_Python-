{
 "cells": [
  {
   "attachments": {},
   "cell_type": "markdown",
   "metadata": {},
   "source": [
    "##### Get the currebt day, month, year, hour, minute and timestamp from datetime module"
   ]
  },
  {
   "cell_type": "code",
   "execution_count": 12,
   "metadata": {},
   "outputs": [
    {
     "name": "stdout",
     "output_type": "stream",
     "text": [
      "19/2/2023 - 21:47:1676839652.820723\n"
     ]
    }
   ],
   "source": [
    "from datetime import datetime\n",
    "\n",
    "current = datetime.now()\n",
    "day = current.day\n",
    "month = current.month\n",
    "year = current.year\n",
    "hour = current.hour\n",
    "minute = current.minute\n",
    "timestamp = current.timestamp()\n",
    "print(F\"{day}/{month}/{year} - {hour}:{minute}\")\n",
    "print('Timestamp:', timestamp)\n"
   ]
  },
  {
   "attachments": {},
   "cell_type": "markdown",
   "metadata": {},
   "source": [
    "##### Format the current date using this format: %m%d%Y, %H:%M%S"
   ]
  },
  {
   "cell_type": "code",
   "execution_count": 18,
   "metadata": {},
   "outputs": [
    {
     "name": "stdout",
     "output_type": "stream",
     "text": [
      "02/19/2023, 21:47:32\n"
     ]
    }
   ],
   "source": [
    "formated_datetime = current.strftime(\"%m/%d/%Y, %H:%M:%S\")\n",
    "print(formated_datetime)"
   ]
  },
  {
   "attachments": {},
   "cell_type": "markdown",
   "metadata": {},
   "source": [
    "##### Today is 5 December, 2019. Change this time string to time."
   ]
  },
  {
   "cell_type": "code",
   "execution_count": 27,
   "metadata": {},
   "outputs": [
    {
     "name": "stdout",
     "output_type": "stream",
     "text": [
      "date_time:  2019-12-05 00:00:00\n"
     ]
    }
   ],
   "source": [
    "from datetime import datetime\n",
    "date_string = \"5 December, 2019\"\n",
    "date_time = datetime.strptime(date_string, \"%d %B, %Y\")\n",
    "print('date_time: ', date_time)"
   ]
  },
  {
   "attachments": {},
   "cell_type": "markdown",
   "metadata": {},
   "source": [
    "##### Calculate the time difference between now and new year."
   ]
  },
  {
   "cell_type": "code",
   "execution_count": 31,
   "metadata": {},
   "outputs": [
    {
     "name": "stdout",
     "output_type": "stream",
     "text": [
      "Time left to new year:  315 days, 0:00:00\n"
     ]
    }
   ],
   "source": [
    "from datetime import date\n",
    "\n",
    "day_date = date(year = 2023, month= 2, day=20)\n",
    "new_year = date(year= 2024, month=1, day=1)\n",
    "time_left_to_new_year = new_year- day_date \n",
    "print('Time left to new year: ', time_left_to_new_year)\n"
   ]
  },
  {
   "attachments": {},
   "cell_type": "markdown",
   "metadata": {},
   "source": [
    "##### Calculate the time difference between 1 January 1970 and now."
   ]
  },
  {
   "cell_type": "code",
   "execution_count": 38,
   "metadata": {},
   "outputs": [
    {
     "name": "stdout",
     "output_type": "stream",
     "text": [
      "Time difference between 1 January 1970 and now is 19408 days, 0:00:00\n"
     ]
    }
   ],
   "source": [
    "from datetime import date, datetime\n",
    "\n",
    "current = datetime.now()\n",
    "now = date(year=2023, month=2, day=20)\n",
    "year_1970 = date(year=1970, month=1, day=1)\n",
    "now_1970 = now - year_1970\n",
    "print('Time difference between 1 January 1970 and now is', now_1970)"
   ]
  },
  {
   "attachments": {},
   "cell_type": "markdown",
   "metadata": {},
   "source": [
    "#### Think, what can you use the datetime module for? Examples:\n",
    "##### -Time series analysis\n",
    "##### -To get a timestamp of any activities in an application\n",
    "##### -Adding posts on a blog"
   ]
  }
 ],
 "metadata": {
  "kernelspec": {
   "display_name": "Python 3",
   "language": "python",
   "name": "python3"
  },
  "language_info": {
   "codemirror_mode": {
    "name": "ipython",
    "version": 3
   },
   "file_extension": ".py",
   "mimetype": "text/x-python",
   "name": "python",
   "nbconvert_exporter": "python",
   "pygments_lexer": "ipython3",
   "version": "3.11.0"
  },
  "orig_nbformat": 4,
  "vscode": {
   "interpreter": {
    "hash": "bbcabe28f8076184b8da29492fab1e6f2f41ea6e2094c3d09ddcdbad96810730"
   }
  }
 },
 "nbformat": 4,
 "nbformat_minor": 2
}
