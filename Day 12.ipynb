{
 "cells": [
  {
   "cell_type": "code",
   "execution_count": 1,
   "metadata": {},
   "outputs": [],
   "source": [
    "from random import random, randint\n",
    "import string\n",
    "import random\n"
   ]
  },
  {
   "attachments": {},
   "cell_type": "markdown",
   "metadata": {},
   "source": [
    "# Day 12"
   ]
  },
  {
   "attachments": {},
   "cell_type": "markdown",
   "metadata": {},
   "source": [
    "## Level 1"
   ]
  },
  {
   "attachments": {},
   "cell_type": "markdown",
   "metadata": {},
   "source": [
    "#### Q1"
   ]
  },
  {
   "cell_type": "code",
   "execution_count": 2,
   "metadata": {},
   "outputs": [
    {
     "name": "stdout",
     "output_type": "stream",
     "text": [
      "umbN4r\n"
     ]
    }
   ],
   "source": [
    "def random_user_id():\n",
    "    return ''.join(str(random.choice(string.ascii_letters + string.digits)) for i in range(6))\n",
    "print(random_user_id())"
   ]
  },
  {
   "attachments": {},
   "cell_type": "markdown",
   "metadata": {},
   "source": [
    "#### Q2"
   ]
  },
  {
   "cell_type": "code",
   "execution_count": 3,
   "metadata": {},
   "outputs": [
    {
     "name": "stdout",
     "output_type": "stream",
     "text": [
      "['sN']\n"
     ]
    }
   ],
   "source": [
    "def user_id_gen_by_user():\n",
    "    num_char = int(input(\"number of characters: \"))\n",
    "    num_id = int(input(\"number of id: \"))\n",
    "    return [''.join(str(random.choice(string.ascii_letters + string.digits)) for i in range(num_char)) for x in range(num_id)]\n",
    "print(user_id_gen_by_user())"
   ]
  },
  {
   "attachments": {},
   "cell_type": "markdown",
   "metadata": {},
   "source": [
    "#### Q3"
   ]
  },
  {
   "cell_type": "code",
   "execution_count": 4,
   "metadata": {},
   "outputs": [
    {
     "name": "stdout",
     "output_type": "stream",
     "text": [
      "rgb(128,180,187)\n"
     ]
    }
   ],
   "source": [
    "def rgb_color_gen():\n",
    "    return 'rgb('+ ','.join(str(randint(0, 255)) for i in range(3)) + ')'\n",
    "print(rgb_color_gen())"
   ]
  },
  {
   "cell_type": "code",
   "execution_count": null,
   "metadata": {},
   "outputs": [],
   "source": []
  }
 ],
 "metadata": {
  "kernelspec": {
   "display_name": "Python 3",
   "language": "python",
   "name": "python3"
  },
  "language_info": {
   "codemirror_mode": {
    "name": "ipython",
    "version": 3
   },
   "file_extension": ".py",
   "mimetype": "text/x-python",
   "name": "python",
   "nbconvert_exporter": "python",
   "pygments_lexer": "ipython3",
   "version": "3.9.13"
  },
  "orig_nbformat": 4,
  "vscode": {
   "interpreter": {
    "hash": "bea2c3de98886f9bddf8a9bef4b0aab369fd8f4f49ddd5f061dba3f9cf50fea9"
   }
  }
 },
 "nbformat": 4,
 "nbformat_minor": 2
}
