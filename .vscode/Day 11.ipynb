{
 "cells": [
  {
   "attachments": {},
   "cell_type": "markdown",
   "metadata": {},
   "source": [
    "# Day 11"
   ]
  },
  {
   "attachments": {},
   "cell_type": "markdown",
   "metadata": {},
   "source": [
    "## Level 1"
   ]
  },
  {
   "attachments": {},
   "cell_type": "markdown",
   "metadata": {},
   "source": [
    "#### Q1"
   ]
  },
  {
   "cell_type": "code",
   "execution_count": 1,
   "metadata": {},
   "outputs": [
    {
     "name": "stdout",
     "output_type": "stream",
     "text": [
      "3\n"
     ]
    }
   ],
   "source": [
    "def sum(num1, num2):\n",
    "    total = num1 + num2\n",
    "    return total\n",
    "print(sum(1,2))\n"
   ]
  },
  {
   "attachments": {},
   "cell_type": "markdown",
   "metadata": {},
   "source": [
    "#### Q2"
   ]
  },
  {
   "cell_type": "code",
   "execution_count": 8,
   "metadata": {},
   "outputs": [
    {
     "name": "stdout",
     "output_type": "stream",
     "text": [
      "15395.8\n"
     ]
    }
   ],
   "source": [
    "def area_circle(r):\n",
    "    pi = 3.142\n",
    "    area = pi * r * r\n",
    "    return area\n",
    "print(area_circle(70))\n"
   ]
  },
  {
   "attachments": {},
   "cell_type": "markdown",
   "metadata": {},
   "source": [
    "#### Q3"
   ]
  },
  {
   "cell_type": "code",
   "execution_count": 9,
   "metadata": {},
   "outputs": [
    {
     "name": "stdout",
     "output_type": "stream",
     "text": [
      "23\n"
     ]
    }
   ],
   "source": [
    "def add_nums(*nums):\n",
    "    total = 0\n",
    "    for i in nums:\n",
    "        total+=i\n",
    "    return total\n",
    "print(add_nums(9,7,4,3))"
   ]
  },
  {
   "attachments": {},
   "cell_type": "markdown",
   "metadata": {},
   "source": [
    "#### Q4"
   ]
  },
  {
   "cell_type": "code",
   "execution_count": 10,
   "metadata": {},
   "outputs": [
    {
     "name": "stdout",
     "output_type": "stream",
     "text": [
      "397.4\n"
     ]
    }
   ],
   "source": [
    "def convert_celsius_to_fahrenheit(C = 203):\n",
    "    fahrenheit = (C * 9/5) + 32\n",
    "    return fahrenheit\n",
    "print(convert_celsius_to_fahrenheit())"
   ]
  },
  {
   "attachments": {},
   "cell_type": "markdown",
   "metadata": {},
   "source": [
    "#### Q5"
   ]
  },
  {
   "cell_type": "code",
   "execution_count": 20,
   "metadata": {},
   "outputs": [
    {
     "name": "stdout",
     "output_type": "stream",
     "text": [
      "Spring\n"
     ]
    }
   ],
   "source": [
    "def check_season(month):\n",
    "    if month in ['September', 'October', 'Novermber']:\n",
    "        season = 'Automn'\n",
    "    elif month in ['December', 'January', 'Febuary']:\n",
    "        season = 'Winter'\n",
    "    elif month in ['March', 'April', 'May']:\n",
    "        season = 'Spring'\n",
    "    else:\n",
    "        season = 'error month'\n",
    "    return season\n",
    "print(check_season('May'))\n"
   ]
  },
  {
   "attachments": {},
   "cell_type": "markdown",
   "metadata": {},
   "source": [
    "#### Q6"
   ]
  },
  {
   "cell_type": "code",
   "execution_count": 22,
   "metadata": {},
   "outputs": [
    {
     "name": "stdout",
     "output_type": "stream",
     "text": [
      "2.5\n"
     ]
    }
   ],
   "source": [
    "def slope(x1, y1, x2, y2):\n",
    "    slope = (y2 - y1) / (x2 - x1)\n",
    "    return slope\n",
    "print(slope(4,6,2,1))"
   ]
  },
  {
   "attachments": {},
   "cell_type": "markdown",
   "metadata": {},
   "source": [
    "#### Q7"
   ]
  },
  {
   "cell_type": "code",
   "execution_count": 24,
   "metadata": {},
   "outputs": [
    {
     "name": "stdout",
     "output_type": "stream",
     "text": [
      "x1 = 3.0 and x2 = 2.0\n"
     ]
    }
   ],
   "source": [
    "import math\n",
    "def solve_quadratic_eqn(a, b, c):\n",
    "    x1 = ((-b) + math.sqrt(pow(b,2) - 4 * a * c)) / (2 * a)\n",
    "    x2 = ((-b) - math.sqrt(pow(b,2) - 4 * a * c)) / (2 * a)\n",
    "    result = 'x1 = {} and x2 = {}'.format(x1, x2)\n",
    "    return result\n",
    "print(solve_quadratic_eqn(1, -5, 6))"
   ]
  },
  {
   "attachments": {},
   "cell_type": "markdown",
   "metadata": {},
   "source": [
    "#### Q8"
   ]
  },
  {
   "cell_type": "code",
   "execution_count": 28,
   "metadata": {},
   "outputs": [
    {
     "name": "stdout",
     "output_type": "stream",
     "text": [
      "python\n",
      "is\n",
      "fun\n"
     ]
    }
   ],
   "source": [
    "def print_list(list):\n",
    "    for i in list:\n",
    "        print(i) \n",
    "print_list(['python', 'is', 'fun'])"
   ]
  },
  {
   "attachments": {},
   "cell_type": "markdown",
   "metadata": {},
   "source": [
    "#### Q9"
   ]
  },
  {
   "cell_type": "code",
   "execution_count": 25,
   "metadata": {},
   "outputs": [
    {
     "name": "stdout",
     "output_type": "stream",
     "text": [
      "['fun', 'is', 'python']\n"
     ]
    }
   ],
   "source": [
    "def reverse_list(list):\n",
    "    rev_lists = []\n",
    "    for i in range(len(list)-1, -1, -1):\n",
    "        rev_lists.append(list[i])\n",
    "    return rev_lists\n",
    "print(reverse_list(['python', 'is', 'fun']))"
   ]
  },
  {
   "attachments": {},
   "cell_type": "markdown",
   "metadata": {},
   "source": [
    "#### Q10"
   ]
  },
  {
   "cell_type": "code",
   "execution_count": 26,
   "metadata": {},
   "outputs": [
    {
     "name": "stdout",
     "output_type": "stream",
     "text": [
      "['Boy', 'Girl', 'Man', 'Woman']\n"
     ]
    }
   ],
   "source": [
    "def capitalize(list):\n",
    "    capital = []\n",
    "    for i in range(len(list)):\n",
    "        capital.append(list[i].capitalize())\n",
    "    return capital\n",
    "print(capitalize(['boy', 'girl', 'man', 'woman']))"
   ]
  },
  {
   "attachments": {},
   "cell_type": "markdown",
   "metadata": {},
   "source": [
    "#### Q11"
   ]
  },
  {
   "cell_type": "code",
   "execution_count": 29,
   "metadata": {},
   "outputs": [
    {
     "name": "stdout",
     "output_type": "stream",
     "text": [
      "[3, 2, 1, 2, 3]\n"
     ]
    }
   ],
   "source": [
    "def add(list, item):\n",
    "    list.append(item)\n",
    "    return list\n",
    "print(add([3,2,1,2], 3))\n"
   ]
  },
  {
   "attachments": {},
   "cell_type": "markdown",
   "metadata": {},
   "source": [
    "#### Q12"
   ]
  },
  {
   "cell_type": "code",
   "execution_count": 30,
   "metadata": {},
   "outputs": [
    {
     "name": "stdout",
     "output_type": "stream",
     "text": [
      "[2, 1, 2]\n"
     ]
    }
   ],
   "source": [
    "def remove(list, item):\n",
    "    list.remove(item)\n",
    "    return list\n",
    "print(remove([3,2,1,2], 3))"
   ]
  },
  {
   "attachments": {},
   "cell_type": "markdown",
   "metadata": {},
   "source": [
    "#### Q13"
   ]
  },
  {
   "cell_type": "code",
   "execution_count": 31,
   "metadata": {},
   "outputs": [
    {
     "name": "stdout",
     "output_type": "stream",
     "text": [
      "55\n"
     ]
    }
   ],
   "source": [
    "def sum(n):\n",
    "    sum = 0\n",
    "    for i in range(n + 1):\n",
    "        sum+=i\n",
    "    return sum\n",
    "print(sum(10))"
   ]
  },
  {
   "attachments": {},
   "cell_type": "markdown",
   "metadata": {},
   "source": [
    "#### Q14"
   ]
  },
  {
   "cell_type": "code",
   "execution_count": 32,
   "metadata": {},
   "outputs": [
    {
     "name": "stdout",
     "output_type": "stream",
     "text": [
      "9\n"
     ]
    }
   ],
   "source": [
    "def sum_odds(odd):\n",
    "    sum_odd = 0\n",
    "    for i in range(odd + 1):\n",
    "        if i % 2 != 0:\n",
    "            sum_odd+=i\n",
    "    return sum_odd\n",
    "print(sum_odds(5)) "
   ]
  },
  {
   "attachments": {},
   "cell_type": "markdown",
   "metadata": {},
   "source": [
    "#### Q15"
   ]
  },
  {
   "cell_type": "code",
   "execution_count": 37,
   "metadata": {},
   "outputs": [
    {
     "name": "stdout",
     "output_type": "stream",
     "text": [
      "30\n"
     ]
    }
   ],
   "source": [
    "def sum_even(even):\n",
    "    evens = 0\n",
    "    for i in range(0, even + 1, 2):\n",
    "        evens+=i\n",
    "    return evens\n",
    "print(sum_even(10))"
   ]
  },
  {
   "attachments": {},
   "cell_type": "markdown",
   "metadata": {},
   "source": [
    "## Level 2"
   ]
  },
  {
   "cell_type": "code",
   "execution_count": 1,
   "metadata": {},
   "outputs": [],
   "source": [
    "from random import random, randint\n",
    "import string\n",
    "import random"
   ]
  },
  {
   "attachments": {},
   "cell_type": "markdown",
   "metadata": {},
   "source": [
    "#### Q1"
   ]
  },
  {
   "cell_type": "code",
   "execution_count": 2,
   "metadata": {},
   "outputs": [
    {
     "name": "stdout",
     "output_type": "stream",
     "text": [
      "Awu2NA\n"
     ]
    }
   ],
   "source": [
    "def random_user_id():\n",
    "    return ''.join(str(random.choice(string.ascii_letters + string.digits)) for i in range(6))\n",
    "print(random_user_id())"
   ]
  },
  {
   "attachments": {},
   "cell_type": "markdown",
   "metadata": {},
   "source": [
    "#### Q2"
   ]
  },
  {
   "cell_type": "code",
   "execution_count": 5,
   "metadata": {},
   "outputs": [
    {
     "name": "stdout",
     "output_type": "stream",
     "text": [
      "['4', 'R']\n"
     ]
    }
   ],
   "source": [
    "def user_id_gen_by_user():\n",
    "    num_char = int(input(\"number of characters: \"))\n",
    "    num_id = int(input(\"number of id: \"))\n",
    "    return [''.join(str(random.choice(string.ascii_letters + string.digits)) for i in range(num_char)) for x in range(num_id)]\n",
    "print(user_id_gen_by_user())"
   ]
  },
  {
   "attachments": {},
   "cell_type": "markdown",
   "metadata": {},
   "source": [
    "#### Q3"
   ]
  },
  {
   "cell_type": "code",
   "execution_count": 6,
   "metadata": {},
   "outputs": [
    {
     "name": "stdout",
     "output_type": "stream",
     "text": [
      "rgb(243,85,220)\n"
     ]
    }
   ],
   "source": [
    "def rgb_color_gen():\n",
    "    return 'rgb('+ ','.join(str(randint(0, 255)) for i in range(3)) + ')'\n",
    "print(rgb_color_gen())"
   ]
  },
  {
   "attachments": {},
   "cell_type": "markdown",
   "metadata": {},
   "source": [
    "## Level 3"
   ]
  },
  {
   "attachments": {},
   "cell_type": "markdown",
   "metadata": {},
   "source": [
    "#### Q1"
   ]
  },
  {
   "cell_type": "code",
   "execution_count": 28,
   "metadata": {},
   "outputs": [
    {
     "name": "stdout",
     "output_type": "stream",
     "text": [
      "29 is a prime number\n"
     ]
    }
   ],
   "source": [
    "def is_prime (num):\n",
    "  j = False\n",
    "\n",
    "  if num == 1:\n",
    "      number = \"{} is not a prime number\".format(num)\n",
    "  elif num > 1:\n",
    "      for i in range(2, num):\n",
    "          if (num % i) == 0:\n",
    "              j = True\n",
    "              break\n",
    "\n",
    "      if j:\n",
    "          number = \"{} is not a prime number\".format(num)\n",
    "      else:\n",
    "          number = \"{} is a prime number\".format(num)\n",
    "  return number\n",
    "print(is_prime(29))"
   ]
  },
  {
   "cell_type": "code",
   "execution_count": null,
   "metadata": {},
   "outputs": [],
   "source": []
  }
 ],
 "metadata": {
  "kernelspec": {
   "display_name": "Python 3",
   "language": "python",
   "name": "python3"
  },
  "language_info": {
   "codemirror_mode": {
    "name": "ipython",
    "version": 3
   },
   "file_extension": ".py",
   "mimetype": "text/x-python",
   "name": "python",
   "nbconvert_exporter": "python",
   "pygments_lexer": "ipython3",
   "version": "3.9.13"
  },
  "orig_nbformat": 4,
  "vscode": {
   "interpreter": {
    "hash": "bea2c3de98886f9bddf8a9bef4b0aab369fd8f4f49ddd5f061dba3f9cf50fea9"
   }
  }
 },
 "nbformat": 4,
 "nbformat_minor": 2
}
