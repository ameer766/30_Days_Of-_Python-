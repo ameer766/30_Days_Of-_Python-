{
 "cells": [
  {
   "cell_type": "code",
   "execution_count": null,
   "metadata": {},
   "outputs": [],
   "source": [
    "countries = ['Estonia', 'Finland', 'Sweden', 'Denmark', 'Norway', 'Iceland']\n",
    "names = ['Asabeneh', 'Lidiya', 'Ermias', 'Abraham']\n",
    "numbers = [1, 2, 3, 4, 5, 6, 7, 8, 9, 10]"
   ]
  },
  {
   "attachments": {},
   "cell_type": "markdown",
   "metadata": {},
   "source": [
    "##### Difference between Map, Filter and Reduce\n",
    "##### Difference between Higher order function, Closure and Decorator"
   ]
  },
  {
   "attachments": {},
   "cell_type": "markdown",
   "metadata": {},
   "source": [
    "##### Use for loop to print each country in the countries list."
   ]
  },
  {
   "cell_type": "code",
   "execution_count": 2,
   "metadata": {},
   "outputs": [
    {
     "name": "stdout",
     "output_type": "stream",
     "text": [
      "Estonia\n",
      "Finland\n",
      "Sweden\n",
      "Denmark\n",
      "Norway\n",
      "Iceland\n"
     ]
    }
   ],
   "source": [
    "countries = ['Estonia', 'Finland', 'Sweden', 'Denmark', 'Norway', 'Iceland']\n",
    "for country  in countries:\n",
    "    print(country)"
   ]
  },
  {
   "attachments": {},
   "cell_type": "markdown",
   "metadata": {},
   "source": [
    "##### Use for to print each name in the names list."
   ]
  },
  {
   "cell_type": "code",
   "execution_count": 3,
   "metadata": {},
   "outputs": [
    {
     "name": "stdout",
     "output_type": "stream",
     "text": [
      "Asabeneh\n",
      "Lidiya\n",
      "Ermias\n",
      "Abraham\n"
     ]
    }
   ],
   "source": [
    "names = ['Asabeneh', 'Lidiya', 'Ermias', 'Abraham']\n",
    "for name in names:\n",
    "    print(name)\n",
    "    "
   ]
  },
  {
   "attachments": {},
   "cell_type": "markdown",
   "metadata": {},
   "source": [
    "##### Use for to print each number in the numbers list."
   ]
  },
  {
   "cell_type": "code",
   "execution_count": 4,
   "metadata": {},
   "outputs": [
    {
     "name": "stdout",
     "output_type": "stream",
     "text": [
      "1\n",
      "2\n",
      "3\n",
      "4\n",
      "5\n",
      "6\n",
      "7\n",
      "8\n",
      "9\n",
      "10\n"
     ]
    }
   ],
   "source": [
    "numbers = [1, 2, 3, 4, 5, 6, 7, 8, 9, 10]\n",
    "for number in numbers:\n",
    "    print(number)"
   ]
  },
  {
   "attachments": {},
   "cell_type": "markdown",
   "metadata": {},
   "source": [
    "### Exercises: Level 2"
   ]
  },
  {
   "attachments": {},
   "cell_type": "markdown",
   "metadata": {},
   "source": [
    "##### Use map to create a new list by changing each country to uppercase in the countries list"
   ]
  },
  {
   "cell_type": "code",
   "execution_count": 13,
   "metadata": {},
   "outputs": [
    {
     "name": "stdout",
     "output_type": "stream",
     "text": [
      "['ESTONIA', 'FINLAND', 'SWEDEN', 'DENMARK', 'NORWAY', 'ICELAND']\n",
      "['ESTONIA', 'FINLAND', 'SWEDEN', 'DENMARK', 'NORWAY', 'ICELAND']\n"
     ]
    }
   ],
   "source": [
    "countries = ['Estonia', 'Finland', 'Sweden', 'Denmark', 'Norway', 'Iceland']\n",
    "def upper_case(country):\n",
    "    return country.upper()\n",
    "\n",
    "result = map(upper_case, countries)\n",
    "print(list(result))\n",
    "\n",
    "# Or using  LAMBDA\n",
    "\n",
    "upper_case_letter = map(lambda country : country.upper(), countries) \n",
    "print(list(upper_case_letter))"
   ]
  },
  {
   "attachments": {},
   "cell_type": "markdown",
   "metadata": {},
   "source": [
    "##### Use map to create a new list by changing each number to its square in the numbers list"
   ]
  },
  {
   "cell_type": "code",
   "execution_count": 14,
   "metadata": {},
   "outputs": [
    {
     "name": "stdout",
     "output_type": "stream",
     "text": [
      "[1, 4, 9, 16, 25, 36, 49, 64, 81, 100]\n",
      "[1, 4, 9, 16, 25, 36, 49, 64, 81, 100]\n"
     ]
    }
   ],
   "source": [
    "def square_number(n):\n",
    "    return n ** 2\n",
    "result = map(square_number, numbers)\n",
    "print(list(result))\n",
    "\n",
    "square_number = map(lambda n : n ** 2, numbers)\n",
    "print(list(square_number))"
   ]
  },
  {
   "attachments": {},
   "cell_type": "markdown",
   "metadata": {},
   "source": [
    "##### Use map to change each name to uppercase in the names list"
   ]
  },
  {
   "cell_type": "code",
   "execution_count": 17,
   "metadata": {},
   "outputs": [
    {
     "name": "stdout",
     "output_type": "stream",
     "text": [
      "['ASABENEH', 'LIDIYA', 'ERMIAS', 'ABRAHAM']\n",
      "['ASABENEH', 'LIDIYA', 'ERMIAS', 'ABRAHAM']\n"
     ]
    }
   ],
   "source": [
    "name_upper = map(lambda name : name.upper(), names)\n",
    "print(list(name_upper))\n",
    "\n",
    "# OR \n",
    "\n",
    "def name_upper_letter(name):\n",
    "    return name.upper()\n",
    "result = map(name_upper_letter, names)\n",
    "print(list(result))"
   ]
  },
  {
   "attachments": {},
   "cell_type": "markdown",
   "metadata": {},
   "source": [
    "##### Use filter to filter out countries containing 'land'."
   ]
  },
  {
   "cell_type": "code",
   "execution_count": 22,
   "metadata": {},
   "outputs": [
    {
     "name": "stdout",
     "output_type": "stream",
     "text": [
      "['Finland', 'Iceland']\n",
      "['Norway']\n"
     ]
    }
   ],
   "source": [
    "def country_filter(country):\n",
    "    if 'land' in country:\n",
    "        return True\n",
    "    return False\n",
    "result = filter(country_filter, countries)\n",
    "print(list(result))\n",
    "\n",
    "# OR\n",
    "\n",
    "country_filter = filter(lambda country :'land' in country, countries)\n",
    "print(list(country_filter))"
   ]
  },
  {
   "cell_type": "markdown",
   "metadata": {},
   "source": [
    "##### Use filter to filter out countries having exactly six characters."
   ]
  },
  {
   "cell_type": "code",
   "execution_count": 24,
   "metadata": {},
   "outputs": [
    {
     "name": "stdout",
     "output_type": "stream",
     "text": [
      "['Estonia', 'Finland', 'Sweden', 'Denmark', 'Norway', 'Iceland']\n"
     ]
    }
   ],
   "source": [
    "count_six = filter(lambda country : len(country) == 6, countries)\n",
    "print(list(count_six))"
   ]
  },
  {
   "cell_type": "markdown",
   "metadata": {},
   "source": [
    "##### Use filter to filter out countries containing six letters and more in the country list"
   ]
  },
  {
   "cell_type": "code",
   "execution_count": 26,
   "metadata": {},
   "outputs": [
    {
     "name": "stdout",
     "output_type": "stream",
     "text": [
      "['Estonia', 'Finland', 'Sweden', 'Denmark', 'Norway', 'Iceland']\n",
      "['Estonia', 'Finland', 'Sweden', 'Denmark', 'Norway', 'Iceland']\n"
     ]
    }
   ],
   "source": [
    "def country_six_chars(country):\n",
    "    country_char = len(country)\n",
    "    if country_char >= 6:\n",
    "        return True\n",
    "    return False\n",
    "result = filter(country_six_chars, countries)\n",
    "print(list(result))\n",
    "\n",
    "# Or\n",
    "\n",
    "count_six = filter(lambda country : len(country) >= 6, countries)\n",
    "print(list(count_six))"
   ]
  },
  {
   "attachments": {},
   "cell_type": "markdown",
   "metadata": {},
   "source": [
    "##### Use filter to filter out countries starting with an 'E'"
   ]
  },
  {
   "cell_type": "code",
   "execution_count": 27,
   "metadata": {},
   "outputs": [
    {
     "name": "stdout",
     "output_type": "stream",
     "text": [
      "['Estonia']\n"
     ]
    }
   ],
   "source": [
    "country_E = filter(lambda country : country[0] == 'E', countries)\n",
    "print(list(country_E))"
   ]
  },
  {
   "cell_type": "code",
   "execution_count": null,
   "metadata": {},
   "outputs": [],
   "source": []
  },
  {
   "cell_type": "code",
   "execution_count": null,
   "metadata": {},
   "outputs": [],
   "source": []
  },
  {
   "cell_type": "code",
   "execution_count": null,
   "metadata": {},
   "outputs": [],
   "source": []
  }
 ],
 "metadata": {
  "kernelspec": {
   "display_name": "Python 3",
   "language": "python",
   "name": "python3"
  },
  "language_info": {
   "codemirror_mode": {
    "name": "ipython",
    "version": 3
   },
   "file_extension": ".py",
   "mimetype": "text/x-python",
   "name": "python",
   "nbconvert_exporter": "python",
   "pygments_lexer": "ipython3",
   "version": "3.11.0"
  },
  "orig_nbformat": 4,
  "vscode": {
   "interpreter": {
    "hash": "bbcabe28f8076184b8da29492fab1e6f2f41ea6e2094c3d09ddcdbad96810730"
   }
  }
 },
 "nbformat": 4,
 "nbformat_minor": 2
}
